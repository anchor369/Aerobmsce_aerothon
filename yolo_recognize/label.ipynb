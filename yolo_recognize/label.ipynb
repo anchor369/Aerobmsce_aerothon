{
 "cells": [
  {
   "cell_type": "code",
   "execution_count": null,
   "id": "6afcaf76",
   "metadata": {
    "vscode": {
     "languageId": "plaintext"
    }
   },
   "outputs": [],
   "source": [
    "import os, shutil\n",
    "\n",
    "src = 'path_to_your_folder_with_100_files'\n",
    "dst = 'dataset'\n",
    "\n",
    "os.makedirs(f'{dst}/images/train', exist_ok=True)\n",
    "os.makedirs(f'{dst}/labels/train', exist_ok=True)\n",
    "\n",
    "for file in os.listdir(src):\n",
    "    if file.endswith('.jpg') or file.endswith('.png'):\n",
    "        shutil.copy(os.path.join(src, file), f'{dst}/images/train/{file}')\n",
    "    elif file.endswith('.txt'):\n",
    "        shutil.copy(os.path.join(src, file), f'{dst}/labels/train/{file}')\n"
   ]
  }
 ],
 "metadata": {
  "language_info": {
   "name": "python"
  }
 },
 "nbformat": 4,
 "nbformat_minor": 5
}
